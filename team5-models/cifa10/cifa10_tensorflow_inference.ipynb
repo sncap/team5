{
 "cells": [
  {
   "cell_type": "code",
   "execution_count": 7,
   "id": "f9285ee3",
   "metadata": {},
   "outputs": [],
   "source": [
    "import tensorflow as tf\n",
    "import numpy as np\n",
    "\n",
    "import cv2\n",
    "import os\n",
    "\n",
    "from tensorflow.keras.layers import Dense, Flatten, Conv2D\n",
    "from tensorflow.keras import Model"
   ]
  },
  {
   "cell_type": "code",
   "execution_count": 8,
   "id": "0e1bf3ba",
   "metadata": {},
   "outputs": [],
   "source": [
    "class MyModel(Model):\n",
    "    def __init__(self):\n",
    "        super(MyModel, self).__init__()\n",
    "        self.conv1 = Conv2D(32, 3, activation='relu')\n",
    "        self.flatten = Flatten()\n",
    "        self.d1 = Dense(128, activation='relu')\n",
    "        self.d2 = Dense(10, activation='softmax')\n",
    "\n",
    "    def call(self, x):\n",
    "        x = self.conv1(x)\n",
    "        x = self.flatten(x)\n",
    "        x = self.d1(x)\n",
    "        return self.d2(x)"
   ]
  },
  {
   "cell_type": "markdown",
   "id": "dc0dd2f7",
   "metadata": {},
   "source": [
    "# Model Load & Preprocessing"
   ]
  },
  {
   "cell_type": "code",
   "execution_count": 9,
   "id": "90924c3a",
   "metadata": {},
   "outputs": [
    {
     "data": {
      "text/plain": [
       "<tensorflow.python.training.tracking.util.CheckpointLoadStatus at 0x7f8ada0f0eb8>"
      ]
     },
     "execution_count": 9,
     "metadata": {},
     "output_type": "execute_result"
    }
   ],
   "source": [
    "model = MyModel()\n",
    "model.load_weights('./checkpoints/cifa10_checkpoint')"
   ]
  },
  {
   "cell_type": "code",
   "execution_count": 10,
   "id": "a3bed576",
   "metadata": {},
   "outputs": [],
   "source": [
    "img = cv2.imread('./test_images/405.jpeg')\n",
    "img = cv2.cvtColor(img, cv2.COLOR_BGR2RGB)\n",
    "img = img.reshape(-1,3).T.reshape(-1)\n",
    "img = tf.convert_to_tensor([img], np.uint8)\n",
    "img = tf.reshape(img, (-1, 3, 32, 32))\n",
    "img = tf.transpose(img, (0, 2, 3, 1))\n",
    "img = tf.cast(img, tf.float32)\n",
    "img = img / 255"
   ]
  },
  {
   "cell_type": "code",
   "execution_count": 11,
   "id": "bb3c7858",
   "metadata": {},
   "outputs": [
    {
     "data": {
      "text/plain": [
       "TensorShape([1, 32, 32, 3])"
      ]
     },
     "execution_count": 11,
     "metadata": {},
     "output_type": "execute_result"
    }
   ],
   "source": [
    "img.shape"
   ]
  },
  {
   "cell_type": "markdown",
   "id": "df502a40",
   "metadata": {},
   "source": [
    "# Model Run"
   ]
  },
  {
   "cell_type": "code",
   "execution_count": 12,
   "id": "a9153d52",
   "metadata": {},
   "outputs": [],
   "source": [
    "predict = model(img)"
   ]
  },
  {
   "cell_type": "code",
   "execution_count": 13,
   "id": "0fa9e902",
   "metadata": {},
   "outputs": [
    {
     "name": "stdout",
     "output_type": "stream",
     "text": [
      "4\n"
     ]
    }
   ],
   "source": [
    "print(np.argmax(predict))"
   ]
  },
  {
   "cell_type": "markdown",
   "id": "6dda3fec",
   "metadata": {},
   "source": [
    "# Modal Save"
   ]
  },
  {
   "cell_type": "code",
   "execution_count": null,
   "id": "f584cc89",
   "metadata": {},
   "outputs": [],
   "source": [
    "model._set_inputs(img) "
   ]
  },
  {
   "cell_type": "code",
   "execution_count": 18,
   "id": "270d58c8",
   "metadata": {},
   "outputs": [
    {
     "name": "stdout",
     "output_type": "stream",
     "text": [
      "INFO:tensorflow:Assets written to: s3://model/cifa10/1/assets\n"
     ]
    }
   ],
   "source": [
    "os.environ.update({\n",
    "    'S3_ENDPOINT'          : 'minio-service.kubeflow:9000',\n",
    "    'AWS_ACCESS_KEY_ID'    : 'minio',\n",
    "    'AWS_SECRET_ACCESS_KEY': 'minio123',\n",
    "    'S3_USE_HTTPS'         : '0',   # Whether or not to use HTTPS. Disable with 0.                        \n",
    "    'S3_VERIFY_SSL'        : '0'    # If HTTPS is used, controls if SSL should be enabled. Disable with 0.\n",
    "})  \n",
    "\n",
    "model.save(\"s3://model/cifar10/1\")"
   ]
  },
  {
   "cell_type": "code",
   "execution_count": 16,
   "id": "8aaf9c88",
   "metadata": {},
   "outputs": [],
   "source": []
  },
  {
   "cell_type": "code",
   "execution_count": 17,
   "id": "047a0f08",
   "metadata": {},
   "outputs": [
    {
     "name": "stdout",
     "output_type": "stream",
     "text": [
      "WARNING:tensorflow:From /usr/local/lib/python3.6/dist-packages/tensorflow_core/python/ops/resource_variable_ops.py:1786: calling BaseResourceVariable.__init__ (from tensorflow.python.ops.resource_variable_ops) with constraint is deprecated and will be removed in a future version.\n",
      "Instructions for updating:\n",
      "If using Keras pass *_constraint arguments to layers.\n",
      "INFO:tensorflow:Assets written to: ./test/assets\n"
     ]
    }
   ],
   "source": [
    "model.save(\"./test\")"
   ]
  },
  {
   "cell_type": "code",
   "execution_count": null,
   "id": "e615d25f",
   "metadata": {},
   "outputs": [],
   "source": []
  }
 ],
 "metadata": {
  "kernelspec": {
   "display_name": "Python 3",
   "language": "python",
   "name": "python3"
  },
  "language_info": {
   "codemirror_mode": {
    "name": "ipython",
    "version": 3
   },
   "file_extension": ".py",
   "mimetype": "text/x-python",
   "name": "python",
   "nbconvert_exporter": "python",
   "pygments_lexer": "ipython3",
   "version": "3.6.9"
  }
 },
 "nbformat": 4,
 "nbformat_minor": 5
}
