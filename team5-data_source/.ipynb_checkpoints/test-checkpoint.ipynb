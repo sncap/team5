{
 "cells": [
  {
   "cell_type": "code",
   "execution_count": 2,
   "metadata": {},
   "outputs": [],
   "source": [
    "import os\n",
    "import sys\n",
    "'''\n",
    "root = os.path.dirname(os.path.abspath(os.path.dirname(__file__)))\n",
    "print(root)\n",
    "\n",
    "add_path_list = ['3rd_party_services', 'config', 'data_processing', 'data_sample', 'data_source', 'server', 'utils']\n",
    "\n",
    "for add_path in add_path_list:\n",
    "    if not root in sys.path:\n",
    "        sys.path.append(root)\n",
    "\n",
    "    if not add_path in sys.path:\n",
    "        sys.path.append(os.path.join(root, add_path))\n",
    "'''\n",
    "from data_publisher import DataPublisher\n",
    "import json\n",
    "from data_augmentor import base64_encoding\n",
    "import argparse\n",
    "import logging\n",
    "import random\n",
    "logging.basicConfig(level=logging.INFO)\n",
    "logger = logging.getLogger(\"DATA SOURCE GENERATOR\")\n",
    "\n",
    "def is_iteration_validated(key):\n",
    "    try:\n",
    "        key = int(key)\n",
    "    except:\n",
    "        logger.error('using number only for the iteration')\n",
    "        return False\n",
    "    if not (0 < key <= 100000):\n",
    "        logger.error('range(0 < iteration < 100,000) only for the iteration')\n",
    "        return False\n",
    "    return True\n",
    "\n",
    "def get_cifar10_msg(config):\n",
    "\n",
    "    folder_list = ['airplane', 'automobile', 'bird', 'cat', 'deer', 'dog', 'frog', 'horse', 'ship', 'truck']\n",
    "    index = random.randint(0, 9)\n",
    "    file_path = os.path.join(config['cifar10_file_path'], folder_list[index])\n",
    "    file_list = os.listdir(file_path)\n",
    "    index = random.randint(0, len(file_list)-1)\n",
    "    data_source_path = os.path.join(file_path, file_list[index])\n",
    "    print('data_source_path: ', data_source_path)\n",
    "    img_encoded = base64_encoding(data_source_path)\n",
    "    msg = json.dumps({\n",
    "        \"data\": img_encoded\n",
    "    })\n",
    "    return msg\n",
    "\n",
    "def get_cancer_msg(config):\n",
    "    file_path = config['cancer_file_path']\n",
    "    with open(file_path, 'r') as f:\n",
    "        data = f.readlines()\n",
    "        index = random.randint(1, len(data)-1)\n",
    "    msg = json.dumps({\n",
    "        \"data\": data[index]\n",
    "    })\n",
    "    print(msg)\n",
    "    return msg"
   ]
  },
  {
   "cell_type": "code",
   "execution_count": 6,
   "metadata": {},
   "outputs": [],
   "source": [
    "config_file = './data_source_config.json'"
   ]
  },
  {
   "cell_type": "code",
   "execution_count": 9,
   "metadata": {},
   "outputs": [
    {
     "name": "stdout",
     "output_type": "stream",
     "text": [
      "Config {'common_config': {'cifar10_file_path': '../data_sample/cifar10/test/', 'cancer_file_path': '../data_sample/cancer/data.csv'}, 'rabbit_config': {'ip': '70.70.10.39', 'port': '5672', 'queue_name': 'park', 'id': 'park', 'passwd': '1111'}}\n"
     ]
    }
   ],
   "source": [
    "with open(config_file, 'r') as cf:\n",
    "    config = json.load(cf)\n",
    "    print(\"Config \" + str(config))"
   ]
  },
  {
   "cell_type": "code",
   "execution_count": 10,
   "metadata": {},
   "outputs": [
    {
     "name": "stdout",
     "output_type": "stream",
     "text": [
      "--------------------------------------------------------------\n",
      "Topic name?(1. CIFAR10_DATA_SOURCE, 2. CANCER_DATA_SOURCE)\n"
     ]
    },
    {
     "name": "stdin",
     "output_type": "stream",
     "text": [
      " 1\n"
     ]
    },
    {
     "name": "stdout",
     "output_type": "stream",
     "text": [
      "--------------------------------------------------------------\n",
      "--------------------------------------------------------------\n",
      "How many send the message?\n",
      "--------------------------------------------------------------\n"
     ]
    },
    {
     "name": "stdin",
     "output_type": "stream",
     "text": [
      " 1\n"
     ]
    },
    {
     "ename": "FileNotFoundError",
     "evalue": "[Errno 2] No such file or directory: '../data_sample/cifar10/test/horse'",
     "output_type": "error",
     "traceback": [
      "\u001b[0;31m---------------------------------------------------------------------------\u001b[0m",
      "\u001b[0;31mFileNotFoundError\u001b[0m                         Traceback (most recent call last)",
      "\u001b[0;32m<ipython-input-10-e00d320ad36a>\u001b[0m in \u001b[0;36m<module>\u001b[0;34m\u001b[0m\n\u001b[1;32m     16\u001b[0m            \u001b[0;32mfor\u001b[0m \u001b[0mi\u001b[0m \u001b[0;32min\u001b[0m \u001b[0mrange\u001b[0m\u001b[0;34m(\u001b[0m\u001b[0mint\u001b[0m\u001b[0;34m(\u001b[0m\u001b[0miteration\u001b[0m\u001b[0;34m)\u001b[0m\u001b[0;34m)\u001b[0m\u001b[0;34m:\u001b[0m\u001b[0;34m\u001b[0m\u001b[0;34m\u001b[0m\u001b[0m\n\u001b[1;32m     17\u001b[0m                \u001b[0;32mif\u001b[0m \u001b[0mtopic_name\u001b[0m \u001b[0;32mis\u001b[0m \u001b[0;34m'CIFAR10_DATA_SOURCE'\u001b[0m\u001b[0;34m:\u001b[0m\u001b[0;34m\u001b[0m\u001b[0;34m\u001b[0m\u001b[0m\n\u001b[0;32m---> 18\u001b[0;31m                    \u001b[0mmsg\u001b[0m \u001b[0;34m=\u001b[0m \u001b[0mget_cifar10_msg\u001b[0m\u001b[0;34m(\u001b[0m\u001b[0mconfig\u001b[0m\u001b[0;34m[\u001b[0m\u001b[0;34m'common_config'\u001b[0m\u001b[0;34m]\u001b[0m\u001b[0;34m)\u001b[0m\u001b[0;34m\u001b[0m\u001b[0;34m\u001b[0m\u001b[0m\n\u001b[0m\u001b[1;32m     19\u001b[0m                    \u001b[0mdps\u001b[0m\u001b[0;34m[\u001b[0m\u001b[0;36m0\u001b[0m\u001b[0;34m]\u001b[0m\u001b[0;34m.\u001b[0m\u001b[0msend_msg\u001b[0m\u001b[0;34m(\u001b[0m\u001b[0mmsg\u001b[0m\u001b[0;34m)\u001b[0m\u001b[0;34m\u001b[0m\u001b[0;34m\u001b[0m\u001b[0m\n\u001b[1;32m     20\u001b[0m                \u001b[0;32melse\u001b[0m\u001b[0;34m:\u001b[0m\u001b[0;34m\u001b[0m\u001b[0;34m\u001b[0m\u001b[0m\n",
      "\u001b[0;32m<ipython-input-2-58c6587168ea>\u001b[0m in \u001b[0;36mget_cifar10_msg\u001b[0;34m(config)\u001b[0m\n\u001b[1;32m     39\u001b[0m     \u001b[0mindex\u001b[0m \u001b[0;34m=\u001b[0m \u001b[0mrandom\u001b[0m\u001b[0;34m.\u001b[0m\u001b[0mrandint\u001b[0m\u001b[0;34m(\u001b[0m\u001b[0;36m0\u001b[0m\u001b[0;34m,\u001b[0m \u001b[0;36m9\u001b[0m\u001b[0;34m)\u001b[0m\u001b[0;34m\u001b[0m\u001b[0;34m\u001b[0m\u001b[0m\n\u001b[1;32m     40\u001b[0m     \u001b[0mfile_path\u001b[0m \u001b[0;34m=\u001b[0m \u001b[0mos\u001b[0m\u001b[0;34m.\u001b[0m\u001b[0mpath\u001b[0m\u001b[0;34m.\u001b[0m\u001b[0mjoin\u001b[0m\u001b[0;34m(\u001b[0m\u001b[0mconfig\u001b[0m\u001b[0;34m[\u001b[0m\u001b[0;34m'cifar10_file_path'\u001b[0m\u001b[0;34m]\u001b[0m\u001b[0;34m,\u001b[0m \u001b[0mfolder_list\u001b[0m\u001b[0;34m[\u001b[0m\u001b[0mindex\u001b[0m\u001b[0;34m]\u001b[0m\u001b[0;34m)\u001b[0m\u001b[0;34m\u001b[0m\u001b[0;34m\u001b[0m\u001b[0m\n\u001b[0;32m---> 41\u001b[0;31m     \u001b[0mfile_list\u001b[0m \u001b[0;34m=\u001b[0m \u001b[0mos\u001b[0m\u001b[0;34m.\u001b[0m\u001b[0mlistdir\u001b[0m\u001b[0;34m(\u001b[0m\u001b[0mfile_path\u001b[0m\u001b[0;34m)\u001b[0m\u001b[0;34m\u001b[0m\u001b[0;34m\u001b[0m\u001b[0m\n\u001b[0m\u001b[1;32m     42\u001b[0m     \u001b[0mindex\u001b[0m \u001b[0;34m=\u001b[0m \u001b[0mrandom\u001b[0m\u001b[0;34m.\u001b[0m\u001b[0mrandint\u001b[0m\u001b[0;34m(\u001b[0m\u001b[0;36m0\u001b[0m\u001b[0;34m,\u001b[0m \u001b[0mlen\u001b[0m\u001b[0;34m(\u001b[0m\u001b[0mfile_list\u001b[0m\u001b[0;34m)\u001b[0m\u001b[0;34m-\u001b[0m\u001b[0;36m1\u001b[0m\u001b[0;34m)\u001b[0m\u001b[0;34m\u001b[0m\u001b[0;34m\u001b[0m\u001b[0m\n\u001b[1;32m     43\u001b[0m     \u001b[0mdata_source_path\u001b[0m \u001b[0;34m=\u001b[0m \u001b[0mos\u001b[0m\u001b[0;34m.\u001b[0m\u001b[0mpath\u001b[0m\u001b[0;34m.\u001b[0m\u001b[0mjoin\u001b[0m\u001b[0;34m(\u001b[0m\u001b[0mfile_path\u001b[0m\u001b[0;34m,\u001b[0m \u001b[0mfile_list\u001b[0m\u001b[0;34m[\u001b[0m\u001b[0mindex\u001b[0m\u001b[0;34m]\u001b[0m\u001b[0;34m)\u001b[0m\u001b[0;34m\u001b[0m\u001b[0;34m\u001b[0m\u001b[0m\n",
      "\u001b[0;31mFileNotFoundError\u001b[0m: [Errno 2] No such file or directory: '../data_sample/cifar10/test/horse'"
     ]
    }
   ],
   "source": [
    " while True:\n",
    "        print('--------------------------------------------------------------')\n",
    "        print('Topic name?(1. CIFAR10_DATA_SOURCE, 2. CANCER_DATA_SOURCE)')\n",
    "        source = input()\n",
    "        if int(source) is 1:\n",
    "            topic_name = 'CIFAR10_DATA_SOURCE'\n",
    "        else:\n",
    "            topic_name = 'CANCER_DATA_SOURCE'\n",
    "        print('--------------------------------------------------------------')\n",
    "\n",
    "        print('--------------------------------------------------------------')\n",
    "        print('How many send the message?')\n",
    "        print('--------------------------------------------------------------')\n",
    "        iteration = input()\n",
    "        if is_iteration_validated(iteration):\n",
    "            for i in range(int(iteration)):\n",
    "                if topic_name is 'CIFAR10_DATA_SOURCE':\n",
    "                    msg = get_cifar10_msg(config['common_config'])\n",
    "                    dps[0].send_msg(msg)\n",
    "                else:\n",
    "                    msg = get_cancer_msg(config['common_config'])\n",
    "                    dps[1].send_msg(msg)"
   ]
  },
  {
   "cell_type": "code",
   "execution_count": null,
   "metadata": {},
   "outputs": [],
   "source": []
  },
  {
   "cell_type": "code",
   "execution_count": null,
   "metadata": {},
   "outputs": [],
   "source": []
  },
  {
   "cell_type": "code",
   "execution_count": null,
   "metadata": {},
   "outputs": [],
   "source": []
  },
  {
   "cell_type": "code",
   "execution_count": null,
   "metadata": {},
   "outputs": [],
   "source": []
  }
 ],
 "metadata": {
  "kernelspec": {
   "display_name": "Python 3",
   "language": "python",
   "name": "python3"
  },
  "language_info": {
   "codemirror_mode": {
    "name": "ipython",
    "version": 3
   },
   "file_extension": ".py",
   "mimetype": "text/x-python",
   "name": "python",
   "nbconvert_exporter": "python",
   "pygments_lexer": "ipython3",
   "version": "3.6.9"
  }
 },
 "nbformat": 4,
 "nbformat_minor": 4
}
