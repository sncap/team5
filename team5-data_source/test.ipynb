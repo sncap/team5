{
 "cells": [
  {
   "cell_type": "code",
   "execution_count": 17,
   "metadata": {},
   "outputs": [],
   "source": [
    "import os\n",
    "import sys\n",
    "'''\n",
    "root = os.path.dirname(os.path.abspath(os.path.dirname(__file__)))\n",
    "print(root)\n",
    "\n",
    "add_path_list = ['3rd_party_services', 'config', 'data_processing', 'data_sample', 'data_source', 'server', 'utils']\n",
    "\n",
    "for add_path in add_path_list:\n",
    "    if not root in sys.path:\n",
    "        sys.path.append(root)\n",
    "\n",
    "    if not add_path in sys.path:\n",
    "        sys.path.append(os.path.join(root, add_path))\n",
    "'''\n",
    "from data_publisher import DataPublisher\n",
    "import json\n",
    "from data_augmentor import base64_encoding\n",
    "import argparse\n",
    "import logging\n",
    "import random\n",
    "logging.basicConfig(level=logging.INFO)\n",
    "logger = logging.getLogger(\"DATA SOURCE GENERATOR\")\n",
    "\n",
    "def is_iteration_validated(key):\n",
    "    try:\n",
    "        key = int(key)\n",
    "    except:\n",
    "        logger.error('using number only for the iteration')\n",
    "        return False\n",
    "    if not (0 < key <= 100000):\n",
    "        logger.error('range(0 < iteration < 100,000) only for the iteration')\n",
    "        return False\n",
    "    return True\n",
    "\n",
    "def get_cifar10_msg(config):\n",
    "\n",
    "    folder_list = ['airplane', 'automobile', 'bird', 'cat', 'deer', 'dog', 'frog', 'horse', 'ship', 'truck']\n",
    "    index = random.randint(0, 9)\n",
    "    file_path = os.path.join(config['cifar10_file_path'], folder_list[index])\n",
    "    file_list = os.listdir(file_path)\n",
    "    index = random.randint(0, len(file_list)-1)\n",
    "    data_source_path = os.path.join(file_path, file_list[index])\n",
    "    print('data_source_path: ', data_source_path)\n",
    "    img_encoded = base64_encoding(data_source_path)\n",
    "    msg = json.dumps({\n",
    "        \"data\": img_encoded\n",
    "    })\n",
    "    return msg\n",
    "\n",
    "def get_cancer_msg(config):\n",
    "    file_path = config['cancer_file_path']\n",
    "    with open(file_path, 'r') as f:\n",
    "        data = f.readlines()\n",
    "        index = random.randint(1, len(data)-1)\n",
    "    msg = json.dumps({\n",
    "        \"data\": data[index]\n",
    "    })\n",
    "    print(msg)\n",
    "    return msg"
   ]
  },
  {
   "cell_type": "code",
   "execution_count": 18,
   "metadata": {},
   "outputs": [],
   "source": [
    "config_file = './data_source_config.json'"
   ]
  },
  {
   "cell_type": "code",
   "execution_count": 19,
   "metadata": {},
   "outputs": [
    {
     "name": "stdout",
     "output_type": "stream",
     "text": [
      "Config {'common_config': {'cifar10_file_path': './data_sample/cifar10/test/', 'cancer_file_path': './data_sample/cancer/data.csv'}, 'rabbit_config': {'ip': '34.145.3.171', 'port': '5672', 'queue_name': 'park', 'id': 'rabbitmq', 'passwd': 'rabbitmq'}}\n"
     ]
    }
   ],
   "source": [
    "with open(config_file, 'r') as cf:\n",
    "    config = json.load(cf)\n",
    "    print(\"Config \" + str(config))"
   ]
  },
  {
   "cell_type": "code",
   "execution_count": 20,
   "metadata": {},
   "outputs": [
    {
     "name": "stdout",
     "output_type": "stream",
     "text": [
      "--------------------------------------------------------------\n",
      "Topic name?(1. CIFAR10_DATA_SOURCE, 2. CANCER_DATA_SOURCE)\n"
     ]
    },
    {
     "name": "stdin",
     "output_type": "stream",
     "text": [
      " 2\n"
     ]
    },
    {
     "name": "stdout",
     "output_type": "stream",
     "text": [
      "--------------------------------------------------------------\n",
      "--------------------------------------------------------------\n",
      "How many send the message?\n",
      "--------------------------------------------------------------\n"
     ]
    },
    {
     "name": "stdin",
     "output_type": "stream",
     "text": [
      " 1\n"
     ]
    },
    {
     "ename": "ValueError",
     "evalue": "empty range for randrange() (1,0, -1)",
     "output_type": "error",
     "traceback": [
      "\u001b[0;31m---------------------------------------------------------------------------\u001b[0m",
      "\u001b[0;31mValueError\u001b[0m                                Traceback (most recent call last)",
      "\u001b[0;32m<ipython-input-20-e00d320ad36a>\u001b[0m in \u001b[0;36m<module>\u001b[0;34m\u001b[0m\n\u001b[1;32m     19\u001b[0m                    \u001b[0mdps\u001b[0m\u001b[0;34m[\u001b[0m\u001b[0;36m0\u001b[0m\u001b[0;34m]\u001b[0m\u001b[0;34m.\u001b[0m\u001b[0msend_msg\u001b[0m\u001b[0;34m(\u001b[0m\u001b[0mmsg\u001b[0m\u001b[0;34m)\u001b[0m\u001b[0;34m\u001b[0m\u001b[0;34m\u001b[0m\u001b[0m\n\u001b[1;32m     20\u001b[0m                \u001b[0;32melse\u001b[0m\u001b[0;34m:\u001b[0m\u001b[0;34m\u001b[0m\u001b[0;34m\u001b[0m\u001b[0m\n\u001b[0;32m---> 21\u001b[0;31m                    \u001b[0mmsg\u001b[0m \u001b[0;34m=\u001b[0m \u001b[0mget_cancer_msg\u001b[0m\u001b[0;34m(\u001b[0m\u001b[0mconfig\u001b[0m\u001b[0;34m[\u001b[0m\u001b[0;34m'common_config'\u001b[0m\u001b[0;34m]\u001b[0m\u001b[0;34m)\u001b[0m\u001b[0;34m\u001b[0m\u001b[0;34m\u001b[0m\u001b[0m\n\u001b[0m\u001b[1;32m     22\u001b[0m                    \u001b[0mdps\u001b[0m\u001b[0;34m[\u001b[0m\u001b[0;36m1\u001b[0m\u001b[0;34m]\u001b[0m\u001b[0;34m.\u001b[0m\u001b[0msend_msg\u001b[0m\u001b[0;34m(\u001b[0m\u001b[0mmsg\u001b[0m\u001b[0;34m)\u001b[0m\u001b[0;34m\u001b[0m\u001b[0;34m\u001b[0m\u001b[0m\n",
      "\u001b[0;32m<ipython-input-17-58c6587168ea>\u001b[0m in \u001b[0;36mget_cancer_msg\u001b[0;34m(config)\u001b[0m\n\u001b[1;32m     53\u001b[0m     \u001b[0;32mwith\u001b[0m \u001b[0mopen\u001b[0m\u001b[0;34m(\u001b[0m\u001b[0mfile_path\u001b[0m\u001b[0;34m,\u001b[0m \u001b[0;34m'r'\u001b[0m\u001b[0;34m)\u001b[0m \u001b[0;32mas\u001b[0m \u001b[0mf\u001b[0m\u001b[0;34m:\u001b[0m\u001b[0;34m\u001b[0m\u001b[0;34m\u001b[0m\u001b[0m\n\u001b[1;32m     54\u001b[0m         \u001b[0mdata\u001b[0m \u001b[0;34m=\u001b[0m \u001b[0mf\u001b[0m\u001b[0;34m.\u001b[0m\u001b[0mreadlines\u001b[0m\u001b[0;34m(\u001b[0m\u001b[0;34m)\u001b[0m\u001b[0;34m\u001b[0m\u001b[0;34m\u001b[0m\u001b[0m\n\u001b[0;32m---> 55\u001b[0;31m         \u001b[0mindex\u001b[0m \u001b[0;34m=\u001b[0m \u001b[0mrandom\u001b[0m\u001b[0;34m.\u001b[0m\u001b[0mrandint\u001b[0m\u001b[0;34m(\u001b[0m\u001b[0;36m1\u001b[0m\u001b[0;34m,\u001b[0m \u001b[0mlen\u001b[0m\u001b[0;34m(\u001b[0m\u001b[0mdata\u001b[0m\u001b[0;34m)\u001b[0m\u001b[0;34m-\u001b[0m\u001b[0;36m1\u001b[0m\u001b[0;34m)\u001b[0m\u001b[0;34m\u001b[0m\u001b[0;34m\u001b[0m\u001b[0m\n\u001b[0m\u001b[1;32m     56\u001b[0m     msg = json.dumps({\n\u001b[1;32m     57\u001b[0m         \u001b[0;34m\"data\"\u001b[0m\u001b[0;34m:\u001b[0m \u001b[0mdata\u001b[0m\u001b[0;34m[\u001b[0m\u001b[0mindex\u001b[0m\u001b[0;34m]\u001b[0m\u001b[0;34m\u001b[0m\u001b[0;34m\u001b[0m\u001b[0m\n",
      "\u001b[0;32m/usr/lib/python3.6/random.py\u001b[0m in \u001b[0;36mrandint\u001b[0;34m(self, a, b)\u001b[0m\n\u001b[1;32m    219\u001b[0m         \"\"\"\n\u001b[1;32m    220\u001b[0m \u001b[0;34m\u001b[0m\u001b[0m\n\u001b[0;32m--> 221\u001b[0;31m         \u001b[0;32mreturn\u001b[0m \u001b[0mself\u001b[0m\u001b[0;34m.\u001b[0m\u001b[0mrandrange\u001b[0m\u001b[0;34m(\u001b[0m\u001b[0ma\u001b[0m\u001b[0;34m,\u001b[0m \u001b[0mb\u001b[0m\u001b[0;34m+\u001b[0m\u001b[0;36m1\u001b[0m\u001b[0;34m)\u001b[0m\u001b[0;34m\u001b[0m\u001b[0;34m\u001b[0m\u001b[0m\n\u001b[0m\u001b[1;32m    222\u001b[0m \u001b[0;34m\u001b[0m\u001b[0m\n\u001b[1;32m    223\u001b[0m     def _randbelow(self, n, int=int, maxsize=1<<BPF, type=type,\n",
      "\u001b[0;32m/usr/lib/python3.6/random.py\u001b[0m in \u001b[0;36mrandrange\u001b[0;34m(self, start, stop, step, _int)\u001b[0m\n\u001b[1;32m    197\u001b[0m             \u001b[0;32mreturn\u001b[0m \u001b[0mistart\u001b[0m \u001b[0;34m+\u001b[0m \u001b[0mself\u001b[0m\u001b[0;34m.\u001b[0m\u001b[0m_randbelow\u001b[0m\u001b[0;34m(\u001b[0m\u001b[0mwidth\u001b[0m\u001b[0;34m)\u001b[0m\u001b[0;34m\u001b[0m\u001b[0;34m\u001b[0m\u001b[0m\n\u001b[1;32m    198\u001b[0m         \u001b[0;32mif\u001b[0m \u001b[0mstep\u001b[0m \u001b[0;34m==\u001b[0m \u001b[0;36m1\u001b[0m\u001b[0;34m:\u001b[0m\u001b[0;34m\u001b[0m\u001b[0;34m\u001b[0m\u001b[0m\n\u001b[0;32m--> 199\u001b[0;31m             \u001b[0;32mraise\u001b[0m \u001b[0mValueError\u001b[0m\u001b[0;34m(\u001b[0m\u001b[0;34m\"empty range for randrange() (%d,%d, %d)\"\u001b[0m \u001b[0;34m%\u001b[0m \u001b[0;34m(\u001b[0m\u001b[0mistart\u001b[0m\u001b[0;34m,\u001b[0m \u001b[0mistop\u001b[0m\u001b[0;34m,\u001b[0m \u001b[0mwidth\u001b[0m\u001b[0;34m)\u001b[0m\u001b[0;34m)\u001b[0m\u001b[0;34m\u001b[0m\u001b[0;34m\u001b[0m\u001b[0m\n\u001b[0m\u001b[1;32m    200\u001b[0m \u001b[0;34m\u001b[0m\u001b[0m\n\u001b[1;32m    201\u001b[0m         \u001b[0;31m# Non-unit step argument supplied.\u001b[0m\u001b[0;34m\u001b[0m\u001b[0;34m\u001b[0m\u001b[0;34m\u001b[0m\u001b[0m\n",
      "\u001b[0;31mValueError\u001b[0m: empty range for randrange() (1,0, -1)"
     ]
    }
   ],
   "source": [
    " while True:\n",
    "        print('--------------------------------------------------------------')\n",
    "        print('Topic name?(1. CIFAR10_DATA_SOURCE, 2. CANCER_DATA_SOURCE)')\n",
    "        source = input()\n",
    "        if int(source) is 1:\n",
    "            topic_name = 'CIFAR10_DATA_SOURCE'\n",
    "        else:\n",
    "            topic_name = 'CANCER_DATA_SOURCE'\n",
    "        print('--------------------------------------------------------------')\n",
    "\n",
    "        print('--------------------------------------------------------------')\n",
    "        print('How many send the message?')\n",
    "        print('--------------------------------------------------------------')\n",
    "        iteration = input()\n",
    "        if is_iteration_validated(iteration):\n",
    "            for i in range(int(iteration)):\n",
    "                if topic_name is 'CIFAR10_DATA_SOURCE':\n",
    "                    msg = get_cifar10_msg(config['common_config'])\n",
    "                    dps[0].send_msg(msg)\n",
    "                else:\n",
    "                    msg = get_cancer_msg(config['common_config'])\n",
    "                    dps[1].send_msg(msg)"
   ]
  }
 ],
 "metadata": {
  "kernelspec": {
   "display_name": "Python 3",
   "language": "python",
   "name": "python3"
  },
  "language_info": {
   "codemirror_mode": {
    "name": "ipython",
    "version": 3
   },
   "file_extension": ".py",
   "mimetype": "text/x-python",
   "name": "python",
   "nbconvert_exporter": "python",
   "pygments_lexer": "ipython3",
   "version": "3.6.9"
  }
 },
 "nbformat": 4,
 "nbformat_minor": 4
}
