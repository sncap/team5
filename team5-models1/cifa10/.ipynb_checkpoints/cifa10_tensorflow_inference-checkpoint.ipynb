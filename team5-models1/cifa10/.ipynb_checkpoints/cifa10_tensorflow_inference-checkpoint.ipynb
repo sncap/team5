{
 "cells": [
  {
   "cell_type": "code",
   "execution_count": 5,
   "id": "fa4cb11a",
   "metadata": {},
   "outputs": [],
   "source": [
    "import tensorflow as tf\n",
    "import numpy as np\n",
    "\n",
    "import os\n",
    "\n",
    "from tensorflow.keras.layers import Dense, Flatten, Conv2D\n",
    "from tensorflow.keras import Model"
   ]
  },
  {
   "cell_type": "code",
   "execution_count": 163,
   "id": "23fd9158",
   "metadata": {},
   "outputs": [],
   "source": [
    "class MyModel(Model):\n",
    "    def __init__(self):\n",
    "        super(MyModel, self).__init__()\n",
    "        self.conv1 = Conv2D(32, 3, activation='relu')\n",
    "        self.flatten = Flatten()\n",
    "        self.d1 = Dense(128, activation='relu')\n",
    "        self.d2 = Dense(10, activation='softmax')\n",
    "\n",
    "    def call(self, x):\n",
    "        x = self.conv1(x)\n",
    "        x = self.flatten(x)\n",
    "        x = self.d1(x)\n",
    "        return self.d2(x)"
   ]
  },
  {
   "cell_type": "markdown",
   "id": "9a70a82a",
   "metadata": {},
   "source": [
    "# Model Load & Preprocessing"
   ]
  },
  {
   "cell_type": "code",
   "execution_count": 164,
   "id": "5af7af1c",
   "metadata": {},
   "outputs": [
    {
     "data": {
      "text/plain": [
       "<tensorflow.python.training.tracking.util.CheckpointLoadStatus at 0x29ce745b490>"
      ]
     },
     "execution_count": 164,
     "metadata": {},
     "output_type": "execute_result"
    }
   ],
   "source": [
    "model = MyModel()\n",
    "model.load_weights('./checkpoints/cifa10_checkpoint')"
   ]
  },
  {
   "cell_type": "code",
   "execution_count": 183,
   "id": "593a764e",
   "metadata": {},
   "outputs": [],
   "source": [
    "img = cv2.imread('./test_images/405.jpeg')\n",
    "img = cv2.cvtColor(img, cv2.COLOR_BGR2RGB)\n",
    "img = img.reshape(-1,3).T.reshape(-1)\n",
    "img = tf.convert_to_tensor([img], np.uint8)\n",
    "img = tf.reshape(img, (-1, 3, 32, 32))\n",
    "img = tf.transpose(img, (0, 2, 3, 1))\n",
    "img = tf.cast(img, tf.float32)\n",
    "img = img / 255"
   ]
  },
  {
   "cell_type": "code",
   "execution_count": 184,
   "id": "410ff117",
   "metadata": {},
   "outputs": [
    {
     "data": {
      "text/plain": [
       "TensorShape([1, 32, 32, 3])"
      ]
     },
     "execution_count": 184,
     "metadata": {},
     "output_type": "execute_result"
    }
   ],
   "source": [
    "img.shape"
   ]
  },
  {
   "cell_type": "markdown",
   "id": "b246c0d3",
   "metadata": {},
   "source": [
    "# Model Run"
   ]
  },
  {
   "cell_type": "code",
   "execution_count": 185,
   "id": "ba5ce697",
   "metadata": {},
   "outputs": [],
   "source": [
    "predict = model(img)"
   ]
  },
  {
   "cell_type": "code",
   "execution_count": 189,
   "id": "af4fe4de",
   "metadata": {},
   "outputs": [
    {
     "name": "stdout",
     "output_type": "stream",
     "text": [
      "4\n"
     ]
    }
   ],
   "source": [
    "print(np.argmax(predict))"
   ]
  }
 ],
 "metadata": {
  "kernelspec": {
   "display_name": "Python 3 (ipykernel)",
   "language": "python",
   "name": "python3"
  },
  "language_info": {
   "codemirror_mode": {
    "name": "ipython",
    "version": 3
   },
   "file_extension": ".py",
   "mimetype": "text/x-python",
   "name": "python",
   "nbconvert_exporter": "python",
   "pygments_lexer": "ipython3",
   "version": "3.9.11"
  }
 },
 "nbformat": 4,
 "nbformat_minor": 5
}
