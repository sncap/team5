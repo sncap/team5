{
 "cells": [
  {
   "cell_type": "code",
   "execution_count": 1,
   "metadata": {},
   "outputs": [],
   "source": [
    "import pika\n",
    "import sys\n",
    "import json\n",
    "import argparse"
   ]
  },
  {
   "cell_type": "code",
   "execution_count": 2,
   "metadata": {},
   "outputs": [],
   "source": [
    "class CancerConsumer:\n",
    "    def __init__(self, config):\n",
    "        config = config['rabbit_config']\n",
    "        print('CancerConsumer', config, 'CANCER')\n",
    "        self.is_connected = False\n",
    "        self.credentials = pika.PlainCredentials(config['id'], config['passwd'])\n",
    "        self.ip = config['ip']\n",
    "        self.port = config['port']\n",
    "        self.queue_name = config['queue_name']\n",
    "        self.topic_name = 'CANCER'\n",
    "\n",
    "\n",
    "    def callback(self, ch, method, properties, body):\n",
    "        body = json.loads(body)\n",
    "        img = body['data']\n",
    "        prediction_result = body['prediction_result']\n",
    "        print(\"[{} {}] {}\".format(method.exchange, prediction_result, img))\n",
    "\n",
    "    def connect(self):\n",
    "        if self.is_connected:\n",
    "            self.disconnect()\n",
    "\n",
    "        connection = pika.BlockingConnection(pika.ConnectionParameters(host=self.ip, port=self.port, credentials=self.credentials))\n",
    "        channel = connection.channel()\n",
    "        channel.exchange_declare(exchange=self.topic_name, exchange_type='topic')\n",
    "        result = channel.queue_declare('', exclusive=True)\n",
    "        queue_name = result.method.queue\n",
    "        channel.queue_bind(exchange=self.topic_name, queue=queue_name, routing_key='park')\n",
    "        channel.basic_consume(queue=queue_name, on_message_callback=self.callback, auto_ack=True)\n",
    "        channel.start_consuming()"
   ]
  },
  {
   "cell_type": "code",
   "execution_count": 3,
   "metadata": {},
   "outputs": [
    {
     "name": "stderr",
     "output_type": "stream",
     "text": [
      "usage: ipykernel_launcher.py [-h] [--config_file CONFIG_FILE]\n",
      "ipykernel_launcher.py: error: unrecognized arguments: -f /home/jovyan/.local/share/jupyter/runtime/kernel-3f80e357-cada-4073-b094-e648fdd779be.json\n"
     ]
    },
    {
     "ename": "SystemExit",
     "evalue": "2",
     "output_type": "error",
     "traceback": [
      "An exception has occurred, use %tb to see the full traceback.\n",
      "\u001b[0;31mSystemExit\u001b[0m\u001b[0;31m:\u001b[0m 2\n"
     ]
    },
    {
     "name": "stderr",
     "output_type": "stream",
     "text": [
      "/usr/local/lib/python3.6/dist-packages/IPython/core/interactiveshell.py:3327: UserWarning: To exit: use 'exit', 'quit', or Ctrl-D.\n",
      "  warn(\"To exit: use 'exit', 'quit', or Ctrl-D.\", stacklevel=1)\n"
     ]
    }
   ],
   "source": [
    "if __name__ == '__main__':\n",
    "    config_file = '3rd_party_services_config.json'\n",
    "    with open(config_file, 'r') as cf:\n",
    "        config = json.load(cf)\n",
    "        print(\"Config \" + str(config))\n",
    "\n",
    "    consumer = CancerConsumer(config)\n",
    "    consumer.connect()"
   ]
  },
  {
   "cell_type": "code",
   "execution_count": null,
   "metadata": {},
   "outputs": [],
   "source": []
  }
 ],
 "metadata": {
  "kernelspec": {
   "display_name": "Python 3",
   "language": "python",
   "name": "python3"
  },
  "language_info": {
   "codemirror_mode": {
    "name": "ipython",
    "version": 3
   },
   "file_extension": ".py",
   "mimetype": "text/x-python",
   "name": "python",
   "nbconvert_exporter": "python",
   "pygments_lexer": "ipython3",
   "version": "3.6.9"
  }
 },
 "nbformat": 4,
 "nbformat_minor": 4
}
