{
 "cells": [
  {
   "cell_type": "code",
   "execution_count": null,
   "metadata": {},
   "outputs": [],
   "source": [
    "import pika\n",
    "import sys\n",
    "import json\n",
    "import argparse\n",
    "import base64\n",
    "import numpy as np\n",
    "\n",
    "def base64_encoding(file_path):\n",
    "    with open(file_path, 'rb') as f:\n",
    "        data = f.read()\n",
    "        encoded = base64.b64encode(data)\n",
    "        encoded = encoded.decode(\"utf-8\")\n",
    "        print('\"'+encoded+'\"')\n",
    "    return encoded\n",
    "\n",
    "def base64_decoding(encoded):\n",
    "    decoded = np.fromstring(base64.b64decode(encoded), dtype=np.uint8)\n",
    "    print(decoded)\n",
    "    return decoded\n",
    "\n",
    "class Cifar10ClassficationConsumer:\n",
    "    def __init__(self, config):\n",
    "        config = config['rabbit_config']\n",
    "        print('Cifar10ClassficationConsumer', config, 'CIFAR10')\n",
    "        self.is_connected = False\n",
    "        self.credentials = pika.PlainCredentials(config['id'], config['passwd'])\n",
    "        self.ip = config['ip']\n",
    "        self.port = config['port']\n",
    "        self.queue_name = config['queue_name']\n",
    "        self.topic_name = 'CIFAR10'\n",
    "\n",
    "\n",
    "    def callback(self, ch, method, properties, body):\n",
    "        body = json.loads(body)\n",
    "        img = body['data']\n",
    "        prediction_result = body['prediction_result']\n",
    "        print(\"[{} {}] {}\".format(method.exchange, prediction_result, img))\n",
    "\n",
    "    def connect(self):\n",
    "        if self.is_connected:\n",
    "            self.disconnect()\n",
    "\n",
    "        connection = pika.BlockingConnection(pika.ConnectionParameters(host=self.ip, port=self.port, credentials=self.credentials))\n",
    "        channel = connection.channel()\n",
    "        channel.exchange_declare(exchange=self.topic_name, exchange_type='topic')\n",
    "        result = channel.queue_declare('', exclusive=True)\n",
    "        queue_name = result.method.queue\n",
    "        channel.queue_bind(exchange=self.topic_name, queue=queue_name, routing_key='park')\n",
    "        channel.basic_consume(queue=queue_name, on_message_callback=self.callback, auto_ack=True)\n",
    "        channel.start_consuming()"
   ]
  },
  {
   "cell_type": "code",
   "execution_count": null,
   "metadata": {},
   "outputs": [],
   "source": []
  }
 ],
 "metadata": {
  "kernelspec": {
   "display_name": "Python 3",
   "language": "python",
   "name": "python3"
  },
  "language_info": {
   "name": ""
  }
 },
 "nbformat": 4,
 "nbformat_minor": 4
}
